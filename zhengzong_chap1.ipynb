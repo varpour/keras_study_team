{
 "cells": [
  {
   "cell_type": "markdown",
   "metadata": {},
   "source": [
    "# 作业1"
   ]
  },
  {
   "cell_type": "markdown",
   "metadata": {},
   "source": [
    "- **设有函数**\n",
    "$$\n",
    " y = Xw + \\epsilon\n",
    "$$\n",
    "\n",
    "- **有m个特征时$y_i$ :** \n",
    "$$\n",
    " y_i = \\sum_{j=0}^m {w_jX_{ij} + \\epsilon_i}\n",
    "$$\n",
    "\n",
    "- ** 所以有损失函数 $F(X,y,w)$ :**\n",
    "\\begin{align}\n",
    " F(X,y,w) & = \\frac{1}{2n} \\sum_{i=1}^n {(y_i - w^Tx_i)}^2  \\\\\n",
    "       & = \\frac{1}{2n} ||y - Xw||_2^2  \\\\\n",
    "       & = \\frac{1}{2n} (y - Xw)^T(y - Xw)  \\\\\n",
    "       & = \\frac{1}{2n} (y^Ty - 2y^TXw + w^TX^TXw)\n",
    " \\end{align}\n",
    "\n",
    "- **因为有： **\n",
    "$$\n",
    " \\frac{\\partial X^TA}{\\partial X}  = A  \\\\\n",
    " \\frac{\\partial X^TAX}{\\partial X} = (A+A^T)X  \\\\\n",
    " \\frac{\\partial X^TAy}{\\partial A}  = X^Ty  \\\\\n",
    "$$\n",
    "\n",
    "- **所以： **\n",
    "$$\n",
    " y^TXw = <X^Ty,w\> = <w,X^Ty\> = w^TX^Ty   \\text {  (向量内积公式)}    \\\\\n",
    " \\frac{\\partial y^TXw}{\\partial w}  = \\frac{\\partial w^TX^Ty}{\\partial w} = X^Ty  \\\\\n",
    " \\frac{\\partial w^TX^TXw}{\\partial w}  = (X^TX + (X^TX)^T)w = 2X^TXw  \\\\\n",
    "$$ \n",
    "\n"
   ]
  },
  {
   "cell_type": "markdown",
   "metadata": {},
   "source": [
    "- **所以： **\n",
    "\\begin{align}\n",
    " \\frac{\\partial F}{\\partial w} & = \n",
    " \\frac{\\partial \\frac{1}{2n}(y^Ty - 2y^TXw + w^TX^TXw)}{\\partial w}  \\\\\n",
    "  & = \\frac{1}{2n}(-2X^Ty +2X^TXw)  \n",
    "\\end{align}\n",
    " \n",
    " _ **所以：**\n",
    " \n",
    "\\begin{align}\n",
    " \\frac{\\partial F}{\\partial w}   = 0    \n",
    " & \\iff \\frac{1}{2n}(-2X^Ty +2X^TXw)  = 0   \\\\\n",
    " & \\iff  -X^Ty + X^TXw  = 0   \\\\\n",
    " & \\iff X^Tw  = X^Ty  \\\\\n",
    " & \\iff w  = (X^TX)^{-1}X^Ty  \\\\\n",
    "\\end{align}"
   ]
  },
  {
   "cell_type": "markdown",
   "metadata": {},
   "source": [
    "## 参考资料\n"
   ]
  },
  {
   "cell_type": "markdown",
   "metadata": {},
   "source": [
    "<https://www.zybuluo.com/codeep/note/163962>\n",
    "\n",
    "<https://www.zhihu.com/question/39523290>\n",
    "\n",
    "<https://blog.csdn.net/u010976453/article/details/54381248>"
   ]
  },
  {
   "cell_type": "code",
   "execution_count": null,
   "metadata": {},
   "outputs": [],
   "source": []
  }
 ],
 "metadata": {
  "kernelspec": {
   "display_name": "Python 3",
   "language": "python",
   "name": "python3"
  },
  "language_info": {
   "codemirror_mode": {
    "name": "ipython",
    "version": 3
   },
   "file_extension": ".py",
   "mimetype": "text/x-python",
   "name": "python",
   "nbconvert_exporter": "python",
   "pygments_lexer": "ipython3",
   "version": "3.5.2"
  }
 },
 "nbformat": 4,
 "nbformat_minor": 2
}
